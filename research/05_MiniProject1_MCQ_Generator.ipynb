{
  "nbformat": 4,
  "nbformat_minor": 0,
  "metadata": {
    "colab": {
      "provenance": [],
      "toc_visible": true
    },
    "kernelspec": {
      "name": "python3",
      "display_name": "Python 3"
    },
    "language_info": {
      "name": "python"
    }
  },
  "cells": [
    {
      "cell_type": "code",
      "source": [
        "from google.colab import drive\n",
        "drive.mount(\"/content/drive/\")"
      ],
      "metadata": {
        "colab": {
          "base_uri": "https://localhost:8080/"
        },
        "id": "tFlCbdwoB2FA",
        "outputId": "0fa87a0d-d7ea-4c0e-f856-b926587d0581"
      },
      "execution_count": 85,
      "outputs": [
        {
          "output_type": "stream",
          "name": "stdout",
          "text": [
            "Drive already mounted at /content/drive/; to attempt to forcibly remount, call drive.mount(\"/content/drive/\", force_remount=True).\n"
          ]
        }
      ]
    },
    {
      "cell_type": "markdown",
      "source": [
        "#### **MCQ Generator using Mistral AI API**"
      ],
      "metadata": {
        "id": "Z0VLWiv4VP-v"
      }
    },
    {
      "cell_type": "markdown",
      "source": [
        "##### **0. Resources**"
      ],
      "metadata": {
        "id": "CbkuM6Mqka23"
      }
    },
    {
      "cell_type": "markdown",
      "source": [
        "[iNeuron intellegence youtube video](https://www.youtube.com/watch?v=bsfobtZJCik&list=PLmQAMKHKeLZ-iTT-E2kK9uePrJ1Xua9VL&index=7&t=3s)\n",
        "\n",
        "[AI Anytime youtube video](https://www.youtube.com/watch?v=Hcqmhhx30Pg&t=383s)"
      ],
      "metadata": {
        "id": "p7tdpb7pkfeO"
      }
    },
    {
      "cell_type": "markdown",
      "source": [
        "##### **1. Install Dependecies**"
      ],
      "metadata": {
        "id": "w2DTlHt3VYlk"
      }
    },
    {
      "cell_type": "code",
      "source": [
        "!pip install langchain\n",
        "!pip install langchain_mistralai\n",
        "!pip install PyPDF2\n",
        "!pip install wikipedia"
      ],
      "metadata": {
        "colab": {
          "base_uri": "https://localhost:8080/"
        },
        "id": "weoO-QOTVpq5",
        "outputId": "048a5bec-3da3-498d-c0f8-71b2caa60170"
      },
      "execution_count": 86,
      "outputs": [
        {
          "output_type": "stream",
          "name": "stdout",
          "text": [
            "Requirement already satisfied: langchain in /usr/local/lib/python3.10/dist-packages (0.3.1)\n",
            "Requirement already satisfied: PyYAML>=5.3 in /usr/local/lib/python3.10/dist-packages (from langchain) (6.0.2)\n",
            "Requirement already satisfied: SQLAlchemy<3,>=1.4 in /usr/local/lib/python3.10/dist-packages (from langchain) (2.0.35)\n",
            "Requirement already satisfied: aiohttp<4.0.0,>=3.8.3 in /usr/local/lib/python3.10/dist-packages (from langchain) (3.10.8)\n",
            "Requirement already satisfied: async-timeout<5.0.0,>=4.0.0 in /usr/local/lib/python3.10/dist-packages (from langchain) (4.0.3)\n",
            "Requirement already satisfied: langchain-core<0.4.0,>=0.3.6 in /usr/local/lib/python3.10/dist-packages (from langchain) (0.3.8)\n",
            "Requirement already satisfied: langchain-text-splitters<0.4.0,>=0.3.0 in /usr/local/lib/python3.10/dist-packages (from langchain) (0.3.0)\n",
            "Requirement already satisfied: langsmith<0.2.0,>=0.1.17 in /usr/local/lib/python3.10/dist-packages (from langchain) (0.1.130)\n",
            "Requirement already satisfied: numpy<2,>=1 in /usr/local/lib/python3.10/dist-packages (from langchain) (1.26.4)\n",
            "Requirement already satisfied: pydantic<3.0.0,>=2.7.4 in /usr/local/lib/python3.10/dist-packages (from langchain) (2.9.2)\n",
            "Requirement already satisfied: requests<3,>=2 in /usr/local/lib/python3.10/dist-packages (from langchain) (2.32.3)\n",
            "Requirement already satisfied: tenacity!=8.4.0,<9.0.0,>=8.1.0 in /usr/local/lib/python3.10/dist-packages (from langchain) (8.5.0)\n",
            "Requirement already satisfied: aiohappyeyeballs>=2.3.0 in /usr/local/lib/python3.10/dist-packages (from aiohttp<4.0.0,>=3.8.3->langchain) (2.4.2)\n",
            "Requirement already satisfied: aiosignal>=1.1.2 in /usr/local/lib/python3.10/dist-packages (from aiohttp<4.0.0,>=3.8.3->langchain) (1.3.1)\n",
            "Requirement already satisfied: attrs>=17.3.0 in /usr/local/lib/python3.10/dist-packages (from aiohttp<4.0.0,>=3.8.3->langchain) (24.2.0)\n",
            "Requirement already satisfied: frozenlist>=1.1.1 in /usr/local/lib/python3.10/dist-packages (from aiohttp<4.0.0,>=3.8.3->langchain) (1.4.1)\n",
            "Requirement already satisfied: multidict<7.0,>=4.5 in /usr/local/lib/python3.10/dist-packages (from aiohttp<4.0.0,>=3.8.3->langchain) (6.1.0)\n",
            "Requirement already satisfied: yarl<2.0,>=1.12.0 in /usr/local/lib/python3.10/dist-packages (from aiohttp<4.0.0,>=3.8.3->langchain) (1.13.1)\n",
            "Requirement already satisfied: jsonpatch<2.0,>=1.33 in /usr/local/lib/python3.10/dist-packages (from langchain-core<0.4.0,>=0.3.6->langchain) (1.33)\n",
            "Requirement already satisfied: packaging<25,>=23.2 in /usr/local/lib/python3.10/dist-packages (from langchain-core<0.4.0,>=0.3.6->langchain) (24.1)\n",
            "Requirement already satisfied: typing-extensions>=4.7 in /usr/local/lib/python3.10/dist-packages (from langchain-core<0.4.0,>=0.3.6->langchain) (4.12.2)\n",
            "Requirement already satisfied: httpx<1,>=0.23.0 in /usr/local/lib/python3.10/dist-packages (from langsmith<0.2.0,>=0.1.17->langchain) (0.27.2)\n",
            "Requirement already satisfied: orjson<4.0.0,>=3.9.14 in /usr/local/lib/python3.10/dist-packages (from langsmith<0.2.0,>=0.1.17->langchain) (3.10.7)\n",
            "Requirement already satisfied: requests-toolbelt<2.0.0,>=1.0.0 in /usr/local/lib/python3.10/dist-packages (from langsmith<0.2.0,>=0.1.17->langchain) (1.0.0)\n",
            "Requirement already satisfied: annotated-types>=0.6.0 in /usr/local/lib/python3.10/dist-packages (from pydantic<3.0.0,>=2.7.4->langchain) (0.7.0)\n",
            "Requirement already satisfied: pydantic-core==2.23.4 in /usr/local/lib/python3.10/dist-packages (from pydantic<3.0.0,>=2.7.4->langchain) (2.23.4)\n",
            "Requirement already satisfied: charset-normalizer<4,>=2 in /usr/local/lib/python3.10/dist-packages (from requests<3,>=2->langchain) (3.3.2)\n",
            "Requirement already satisfied: idna<4,>=2.5 in /usr/local/lib/python3.10/dist-packages (from requests<3,>=2->langchain) (3.10)\n",
            "Requirement already satisfied: urllib3<3,>=1.21.1 in /usr/local/lib/python3.10/dist-packages (from requests<3,>=2->langchain) (2.2.3)\n",
            "Requirement already satisfied: certifi>=2017.4.17 in /usr/local/lib/python3.10/dist-packages (from requests<3,>=2->langchain) (2024.8.30)\n",
            "Requirement already satisfied: greenlet!=0.4.17 in /usr/local/lib/python3.10/dist-packages (from SQLAlchemy<3,>=1.4->langchain) (3.1.1)\n",
            "Requirement already satisfied: anyio in /usr/local/lib/python3.10/dist-packages (from httpx<1,>=0.23.0->langsmith<0.2.0,>=0.1.17->langchain) (3.7.1)\n",
            "Requirement already satisfied: httpcore==1.* in /usr/local/lib/python3.10/dist-packages (from httpx<1,>=0.23.0->langsmith<0.2.0,>=0.1.17->langchain) (1.0.6)\n",
            "Requirement already satisfied: sniffio in /usr/local/lib/python3.10/dist-packages (from httpx<1,>=0.23.0->langsmith<0.2.0,>=0.1.17->langchain) (1.3.1)\n",
            "Requirement already satisfied: h11<0.15,>=0.13 in /usr/local/lib/python3.10/dist-packages (from httpcore==1.*->httpx<1,>=0.23.0->langsmith<0.2.0,>=0.1.17->langchain) (0.14.0)\n",
            "Requirement already satisfied: jsonpointer>=1.9 in /usr/local/lib/python3.10/dist-packages (from jsonpatch<2.0,>=1.33->langchain-core<0.4.0,>=0.3.6->langchain) (3.0.0)\n",
            "Requirement already satisfied: exceptiongroup in /usr/local/lib/python3.10/dist-packages (from anyio->httpx<1,>=0.23.0->langsmith<0.2.0,>=0.1.17->langchain) (1.2.2)\n",
            "Requirement already satisfied: langchain_mistralai in /usr/local/lib/python3.10/dist-packages (0.2.0)\n",
            "Requirement already satisfied: httpx<1,>=0.25.2 in /usr/local/lib/python3.10/dist-packages (from langchain_mistralai) (0.27.2)\n",
            "Requirement already satisfied: httpx-sse<1,>=0.3.1 in /usr/local/lib/python3.10/dist-packages (from langchain_mistralai) (0.4.0)\n",
            "Requirement already satisfied: langchain-core<0.4.0,>=0.3.0 in /usr/local/lib/python3.10/dist-packages (from langchain_mistralai) (0.3.8)\n",
            "Requirement already satisfied: pydantic<3,>=2 in /usr/local/lib/python3.10/dist-packages (from langchain_mistralai) (2.9.2)\n",
            "Requirement already satisfied: tokenizers<1,>=0.15.1 in /usr/local/lib/python3.10/dist-packages (from langchain_mistralai) (0.19.1)\n",
            "Requirement already satisfied: anyio in /usr/local/lib/python3.10/dist-packages (from httpx<1,>=0.25.2->langchain_mistralai) (3.7.1)\n",
            "Requirement already satisfied: certifi in /usr/local/lib/python3.10/dist-packages (from httpx<1,>=0.25.2->langchain_mistralai) (2024.8.30)\n",
            "Requirement already satisfied: httpcore==1.* in /usr/local/lib/python3.10/dist-packages (from httpx<1,>=0.25.2->langchain_mistralai) (1.0.6)\n",
            "Requirement already satisfied: idna in /usr/local/lib/python3.10/dist-packages (from httpx<1,>=0.25.2->langchain_mistralai) (3.10)\n",
            "Requirement already satisfied: sniffio in /usr/local/lib/python3.10/dist-packages (from httpx<1,>=0.25.2->langchain_mistralai) (1.3.1)\n",
            "Requirement already satisfied: h11<0.15,>=0.13 in /usr/local/lib/python3.10/dist-packages (from httpcore==1.*->httpx<1,>=0.25.2->langchain_mistralai) (0.14.0)\n",
            "Requirement already satisfied: PyYAML>=5.3 in /usr/local/lib/python3.10/dist-packages (from langchain-core<0.4.0,>=0.3.0->langchain_mistralai) (6.0.2)\n",
            "Requirement already satisfied: jsonpatch<2.0,>=1.33 in /usr/local/lib/python3.10/dist-packages (from langchain-core<0.4.0,>=0.3.0->langchain_mistralai) (1.33)\n",
            "Requirement already satisfied: langsmith<0.2.0,>=0.1.125 in /usr/local/lib/python3.10/dist-packages (from langchain-core<0.4.0,>=0.3.0->langchain_mistralai) (0.1.130)\n",
            "Requirement already satisfied: packaging<25,>=23.2 in /usr/local/lib/python3.10/dist-packages (from langchain-core<0.4.0,>=0.3.0->langchain_mistralai) (24.1)\n",
            "Requirement already satisfied: tenacity!=8.4.0,<9.0.0,>=8.1.0 in /usr/local/lib/python3.10/dist-packages (from langchain-core<0.4.0,>=0.3.0->langchain_mistralai) (8.5.0)\n",
            "Requirement already satisfied: typing-extensions>=4.7 in /usr/local/lib/python3.10/dist-packages (from langchain-core<0.4.0,>=0.3.0->langchain_mistralai) (4.12.2)\n",
            "Requirement already satisfied: annotated-types>=0.6.0 in /usr/local/lib/python3.10/dist-packages (from pydantic<3,>=2->langchain_mistralai) (0.7.0)\n",
            "Requirement already satisfied: pydantic-core==2.23.4 in /usr/local/lib/python3.10/dist-packages (from pydantic<3,>=2->langchain_mistralai) (2.23.4)\n",
            "Requirement already satisfied: huggingface-hub<1.0,>=0.16.4 in /usr/local/lib/python3.10/dist-packages (from tokenizers<1,>=0.15.1->langchain_mistralai) (0.24.7)\n",
            "Requirement already satisfied: filelock in /usr/local/lib/python3.10/dist-packages (from huggingface-hub<1.0,>=0.16.4->tokenizers<1,>=0.15.1->langchain_mistralai) (3.16.1)\n",
            "Requirement already satisfied: fsspec>=2023.5.0 in /usr/local/lib/python3.10/dist-packages (from huggingface-hub<1.0,>=0.16.4->tokenizers<1,>=0.15.1->langchain_mistralai) (2024.6.1)\n",
            "Requirement already satisfied: requests in /usr/local/lib/python3.10/dist-packages (from huggingface-hub<1.0,>=0.16.4->tokenizers<1,>=0.15.1->langchain_mistralai) (2.32.3)\n",
            "Requirement already satisfied: tqdm>=4.42.1 in /usr/local/lib/python3.10/dist-packages (from huggingface-hub<1.0,>=0.16.4->tokenizers<1,>=0.15.1->langchain_mistralai) (4.66.5)\n",
            "Requirement already satisfied: jsonpointer>=1.9 in /usr/local/lib/python3.10/dist-packages (from jsonpatch<2.0,>=1.33->langchain-core<0.4.0,>=0.3.0->langchain_mistralai) (3.0.0)\n",
            "Requirement already satisfied: orjson<4.0.0,>=3.9.14 in /usr/local/lib/python3.10/dist-packages (from langsmith<0.2.0,>=0.1.125->langchain-core<0.4.0,>=0.3.0->langchain_mistralai) (3.10.7)\n",
            "Requirement already satisfied: requests-toolbelt<2.0.0,>=1.0.0 in /usr/local/lib/python3.10/dist-packages (from langsmith<0.2.0,>=0.1.125->langchain-core<0.4.0,>=0.3.0->langchain_mistralai) (1.0.0)\n",
            "Requirement already satisfied: exceptiongroup in /usr/local/lib/python3.10/dist-packages (from anyio->httpx<1,>=0.25.2->langchain_mistralai) (1.2.2)\n",
            "Requirement already satisfied: charset-normalizer<4,>=2 in /usr/local/lib/python3.10/dist-packages (from requests->huggingface-hub<1.0,>=0.16.4->tokenizers<1,>=0.15.1->langchain_mistralai) (3.3.2)\n",
            "Requirement already satisfied: urllib3<3,>=1.21.1 in /usr/local/lib/python3.10/dist-packages (from requests->huggingface-hub<1.0,>=0.16.4->tokenizers<1,>=0.15.1->langchain_mistralai) (2.2.3)\n",
            "Requirement already satisfied: PyPDF2 in /usr/local/lib/python3.10/dist-packages (3.0.1)\n",
            "Requirement already satisfied: wikipedia in /usr/local/lib/python3.10/dist-packages (1.4.0)\n",
            "Requirement already satisfied: beautifulsoup4 in /usr/local/lib/python3.10/dist-packages (from wikipedia) (4.12.3)\n",
            "Requirement already satisfied: requests<3.0.0,>=2.0.0 in /usr/local/lib/python3.10/dist-packages (from wikipedia) (2.32.3)\n",
            "Requirement already satisfied: charset-normalizer<4,>=2 in /usr/local/lib/python3.10/dist-packages (from requests<3.0.0,>=2.0.0->wikipedia) (3.3.2)\n",
            "Requirement already satisfied: idna<4,>=2.5 in /usr/local/lib/python3.10/dist-packages (from requests<3.0.0,>=2.0.0->wikipedia) (3.10)\n",
            "Requirement already satisfied: urllib3<3,>=1.21.1 in /usr/local/lib/python3.10/dist-packages (from requests<3.0.0,>=2.0.0->wikipedia) (2.2.3)\n",
            "Requirement already satisfied: certifi>=2017.4.17 in /usr/local/lib/python3.10/dist-packages (from requests<3.0.0,>=2.0.0->wikipedia) (2024.8.30)\n",
            "Requirement already satisfied: soupsieve>1.2 in /usr/local/lib/python3.10/dist-packages (from beautifulsoup4->wikipedia) (2.6)\n"
          ]
        }
      ]
    },
    {
      "cell_type": "code",
      "execution_count": 87,
      "metadata": {
        "id": "dYDaCrFCVGIH"
      },
      "outputs": [],
      "source": [
        "import os\n",
        "import traceback\n",
        "import pandas as pd\n",
        "import json\n",
        "\n",
        "from langchain_mistralai import ChatMistralAI\n",
        "from langchain.prompts import PromptTemplate\n",
        "from langchain.chains import LLMChain\n",
        "from langchain.chains import SequentialChain\n",
        "import PyPDF2\n",
        "import wikipedia"
      ]
    },
    {
      "cell_type": "markdown",
      "source": [
        "##### **API key Setup**"
      ],
      "metadata": {
        "id": "YR-KOPi4WcOE"
      }
    },
    {
      "cell_type": "code",
      "source": [
        "os.environ[\"MISTRAL_API_KEY\"] = \"ZL1Cxn38UvSt3Uk5cneYzAA4ba8HqkAh\""
      ],
      "metadata": {
        "id": "GXaSimEOWfTT"
      },
      "execution_count": 88,
      "outputs": []
    },
    {
      "cell_type": "code",
      "source": [
        "llm = ChatMistralAI(\n",
        "    model=\"mistral-large-latest\",\n",
        "    # model = \"Mistral-7B-Instruct-v0.3\",\n",
        "    temperature=0.3,\n",
        "    api_key = os.environ[\"MISTRAL_API_KEY\"]\n",
        ")"
      ],
      "metadata": {
        "id": "2_LnzYzYWlW7"
      },
      "execution_count": 89,
      "outputs": []
    },
    {
      "cell_type": "code",
      "source": [
        "llm"
      ],
      "metadata": {
        "colab": {
          "base_uri": "https://localhost:8080/"
        },
        "id": "Yt9pcvmLX-ci",
        "outputId": "3b2444e5-a556-4d9b-dfcf-d78ba60804fe"
      },
      "execution_count": 90,
      "outputs": [
        {
          "output_type": "execute_result",
          "data": {
            "text/plain": [
              "ChatMistralAI(client=<httpx.Client object at 0x7ec9955800d0>, async_client=<httpx.AsyncClient object at 0x7ec995580280>, mistral_api_key=SecretStr('**********'), endpoint='https://api.mistral.ai/v1', model='mistral-large-latest', temperature=0.3)"
            ]
          },
          "metadata": {},
          "execution_count": 90
        }
      ]
    },
    {
      "cell_type": "markdown",
      "source": [
        "##### **Template Creation**"
      ],
      "metadata": {
        "id": "U0qJjNeP5-Zh"
      }
    },
    {
      "cell_type": "code",
      "source": [
        "RESPONSE_JSON = {\n",
        "    \"1\": {\n",
        "        \"mcq\": \"multiple choice question\",\n",
        "        \"options\": {\n",
        "            \"a\": \"choice here\",\n",
        "            \"b\": \"choice here\",\n",
        "            \"c\": \"choice here\",\n",
        "            \"d\": \"choice here\",\n",
        "        },\n",
        "        \"correct\": \"correct answer\",\n",
        "    },\n",
        "    \"2\": {\n",
        "        \"mcq\": \"multiple choice question\",\n",
        "        \"options\": {\n",
        "            \"a\": \"choice here\",\n",
        "            \"b\": \"choice here\",\n",
        "            \"c\": \"choice here\",\n",
        "            \"d\": \"choice here\",\n",
        "        },\n",
        "        \"correct\": \"correct answer\",\n",
        "    },\n",
        "    \"3\": {\n",
        "        \"mcq\": \"multiple choice question\",\n",
        "        \"options\": {\n",
        "            \"a\": \"choice here\",\n",
        "            \"b\": \"choice here\",\n",
        "            \"c\": \"choice here\",\n",
        "            \"d\": \"choice here\",\n",
        "        },\n",
        "        \"correct\": \"correct answer\",\n",
        "    },\n",
        "}"
      ],
      "metadata": {
        "id": "P82KuiCu5E69"
      },
      "execution_count": 91,
      "outputs": []
    },
    {
      "cell_type": "code",
      "source": [
        "TEMPLATE = \"\"\"\n",
        "Text:{text}\n",
        "You are an expert MCQ maker. Given the above text, it is your job to \\\n",
        "create a quiz of {number} multiple choice questions for {subject} students in {tone} tone.\n",
        "Make sure the questions are not repeated and check all the questions to be conforming the text as well.\n",
        "Make sure to format your response like  RESPONSE_JSON and use it as a guide. \\\n",
        "Ensure to make {number} MCQs\n",
        "### RESPONSE_JSON\n",
        "{response_json}\n",
        "\"\"\""
      ],
      "metadata": {
        "id": "2pVO0Cf83xav"
      },
      "execution_count": 92,
      "outputs": []
    },
    {
      "cell_type": "code",
      "source": [
        "quiz_generation_prompt = PromptTemplate(\n",
        "    input_variables=[\"text\",\"number\",\"subject\",\"tone\",\"response_json\"],\n",
        "    output_key=[\"quiz\"],\n",
        "    template = TEMPLATE\n",
        ")\n",
        "quiz_generation_prompt"
      ],
      "metadata": {
        "colab": {
          "base_uri": "https://localhost:8080/"
        },
        "id": "H7LBOzYU5GNL",
        "outputId": "4b001143-3d9a-4b94-e022-fdc22f8fb00e"
      },
      "execution_count": 93,
      "outputs": [
        {
          "output_type": "execute_result",
          "data": {
            "text/plain": [
              "PromptTemplate(input_variables=['number', 'response_json', 'subject', 'text', 'tone'], input_types={}, partial_variables={}, template='\\nText:{text}\\nYou are an expert MCQ maker. Given the above text, it is your job to create a quiz of {number} multiple choice questions for {subject} students in {tone} tone. \\nMake sure the questions are not repeated and check all the questions to be conforming the text as well.\\nMake sure to format your response like  RESPONSE_JSON and use it as a guide. Ensure to make {number} MCQs\\n### RESPONSE_JSON\\n{response_json}\\n')"
            ]
          },
          "metadata": {},
          "execution_count": 93
        }
      ]
    },
    {
      "cell_type": "code",
      "source": [
        "TEMPLATE = \"\"\"\n",
        "You are an expert english grammarian and writer. Given a Multiple Choice Quiz for {subject} students.\\\n",
        "You need to evaluate the complexity of the question and give a complete analysis of the quiz. Only use at max 50 words for complexity analysis.\n",
        "if the quiz is not at per with the cognitive and analytical abilities of the students,\\\n",
        "update the quiz questions which needs to be changed and change the tone such that it perfectly fits the student abilities\n",
        "Quiz_MCQs:\n",
        "{quiz}\n",
        "\n",
        "Check from an expert English Writer of the above quiz:\n",
        "\"\"\""
      ],
      "metadata": {
        "id": "B2Ujzf8p7jBk"
      },
      "execution_count": 94,
      "outputs": []
    },
    {
      "cell_type": "code",
      "source": [
        "quiz_evaluator_prompt = PromptTemplate(\n",
        "    input_variables = [\"quiz\",\"subject\"],\n",
        "    output_variables=[\"review\"],\n",
        "    template = TEMPLATE\n",
        ")\n",
        "quiz_evaluator_prompt"
      ],
      "metadata": {
        "colab": {
          "base_uri": "https://localhost:8080/"
        },
        "id": "7oPuJrGm6ODp",
        "outputId": "daefbb3a-8a54-4e1b-f1e0-bcef58b9bb55"
      },
      "execution_count": 95,
      "outputs": [
        {
          "output_type": "execute_result",
          "data": {
            "text/plain": [
              "PromptTemplate(input_variables=['quiz', 'subject'], input_types={}, partial_variables={}, template='\\nYou are an expert english grammarian and writer. Given a Multiple Choice Quiz for {subject} students.You need to evaluate the complexity of the question and give a complete analysis of the quiz. Only use at max 50 words for complexity analysis. \\nif the quiz is not at per with the cognitive and analytical abilities of the students,update the quiz questions which needs to be changed and change the tone such that it perfectly fits the student abilities\\nQuiz_MCQs:\\n{quiz}\\n\\nCheck from an expert English Writer of the above quiz:\\n')"
            ]
          },
          "metadata": {},
          "execution_count": 95
        }
      ]
    },
    {
      "cell_type": "markdown",
      "source": [
        "##### **SequentialChain Creation**"
      ],
      "metadata": {
        "id": "pCDOTvMc5xMC"
      }
    },
    {
      "cell_type": "code",
      "source": [
        "quiz_generation_chain = LLMChain(llm=llm,\n",
        "                                 prompt=quiz_generation_prompt,\n",
        "                                 output_key=\"quiz\",\n",
        "                                 verbose=True)"
      ],
      "metadata": {
        "id": "fUWHbIM06NIJ"
      },
      "execution_count": 96,
      "outputs": []
    },
    {
      "cell_type": "code",
      "source": [
        "quiz_evaluator_chain = LLMChain(llm=llm,\n",
        "                                prompt=quiz_evaluator_prompt,\n",
        "                                output_key=\"review\",\n",
        "                                verbose=True)"
      ],
      "metadata": {
        "id": "NXjQaYed8zPC"
      },
      "execution_count": 97,
      "outputs": []
    },
    {
      "cell_type": "code",
      "source": [
        "seq_quiz_chain = SequentialChain(chains=[quiz_generation_chain,quiz_evaluator_chain],\n",
        "                                 input_variables=[\"text\",\"number\",\"subject\",\"tone\",\"response_json\"],\n",
        "                                 output_variables=[\"quiz\",\"review\"],\n",
        "                                 verbose=True)"
      ],
      "metadata": {
        "id": "NcyJB-1O9ROh"
      },
      "execution_count": 98,
      "outputs": []
    },
    {
      "cell_type": "markdown",
      "source": [
        "##### **Text Handling**"
      ],
      "metadata": {
        "id": "V0Mddt2YBsQg"
      }
    },
    {
      "cell_type": "code",
      "source": [
        "def extract_wikipedia_summary_to_file(topic, word_limit=500, filename=\"wikipedia_summary.txt\"):\n",
        "    try:\n",
        "        wikipedia.set_lang(\"en\")\n",
        "        summary = wikipedia.summary(topic, auto_suggest=False)\n",
        "        words = summary.split()\n",
        "        limited_summary = ' '.join(words[:word_limit])\n",
        "\n",
        "        if len(words) > word_limit:\n",
        "            limited_summary += \"...\"\n",
        "\n",
        "        with open(filename, 'w') as file:\n",
        "            file.write(limited_summary)\n",
        "\n",
        "        return f\"Summary of '{topic}' has been saved to '{filename}'.\"\n",
        "\n",
        "    except wikipedia.exceptions.PageError:\n",
        "        return f\"Sorry, the topic '{topic}' does not exist on Wikipedia.\"\n",
        "\n",
        "    except wikipedia.exceptions.DisambiguationError as e:\n",
        "        return f\"Topic '{topic}' is ambiguous. Possible options include: {e.options}\"\n",
        "\n",
        "extract_wikipedia_summary_to_file(\"Machine Learning\", word_limit=500, filename=\"Machine_Learning.txt\")\n"
      ],
      "metadata": {
        "colab": {
          "base_uri": "https://localhost:8080/",
          "height": 35
        },
        "id": "ifaUsd1OBwQm",
        "outputId": "579c0543-0a4e-4771-9be8-a9e72ec03524"
      },
      "execution_count": 99,
      "outputs": [
        {
          "output_type": "execute_result",
          "data": {
            "text/plain": [
              "\"Summary of 'Machine Learning' has been saved to 'Machine_Learning.txt'.\""
            ],
            "application/vnd.google.colaboratory.intrinsic+json": {
              "type": "string"
            }
          },
          "metadata": {},
          "execution_count": 99
        }
      ]
    },
    {
      "cell_type": "markdown",
      "source": [
        "##### **Result**"
      ],
      "metadata": {
        "id": "B7hoQyQ7-MGM"
      }
    },
    {
      "cell_type": "code",
      "source": [
        "text = \" \"\n",
        "with open(\"/content/Machine_Learning.txt\",\"r\") as f:\n",
        "  text = f.readline()"
      ],
      "metadata": {
        "id": "xFC8uys1IvjN"
      },
      "execution_count": 100,
      "outputs": []
    },
    {
      "cell_type": "code",
      "source": [
        "text"
      ],
      "metadata": {
        "colab": {
          "base_uri": "https://localhost:8080/",
          "height": 157
        },
        "id": "0Oam5A6uJaaa",
        "outputId": "7a087a78-a073-460c-a371-26f23585e86d"
      },
      "execution_count": 101,
      "outputs": [
        {
          "output_type": "execute_result",
          "data": {
            "text/plain": [
              "'Machine learning (ML) is a field of study in artificial intelligence concerned with the development and study of statistical algorithms that can learn from data and generalize to unseen data, and thus perform tasks without explicit instructions. Quick progress in the field of deep learning, beginning in 2010s, allowed neural networks to surpass many previous approaches in performance. ML finds application in many fields, including natural language processing, computer vision, speech recognition, email filtering, agriculture, and medicine. The application of ML to business problems is known as predictive analytics. Statistics and mathematical optimization (mathematical programming) methods comprise the foundations of machine learning. Data mining is a related field of study, focusing on exploratory data analysis (EDA) via unsupervised learning. From a theoretical viewpoint, probably approximately correct (PAC) learning provides a framework for describing machine learning.'"
            ],
            "application/vnd.google.colaboratory.intrinsic+json": {
              "type": "string"
            }
          },
          "metadata": {},
          "execution_count": 101
        }
      ]
    },
    {
      "cell_type": "code",
      "source": [
        "json.dumps(RESPONSE_JSON)"
      ],
      "metadata": {
        "colab": {
          "base_uri": "https://localhost:8080/",
          "height": 87
        },
        "id": "qqxerLR5JvuS",
        "outputId": "bc9f4622-5735-4d58-af4c-1ec62bbe7c50"
      },
      "execution_count": 102,
      "outputs": [
        {
          "output_type": "execute_result",
          "data": {
            "text/plain": [
              "'{\"1\": {\"mcq\": \"multiple choice question\", \"options\": {\"a\": \"choice here\", \"b\": \"choice here\", \"c\": \"choice here\", \"d\": \"choice here\"}, \"correct\": \"correct answer\"}, \"2\": {\"mcq\": \"multiple choice question\", \"options\": {\"a\": \"choice here\", \"b\": \"choice here\", \"c\": \"choice here\", \"d\": \"choice here\"}, \"correct\": \"correct answer\"}, \"3\": {\"mcq\": \"multiple choice question\", \"options\": {\"a\": \"choice here\", \"b\": \"choice here\", \"c\": \"choice here\", \"d\": \"choice here\"}, \"correct\": \"correct answer\"}}'"
            ],
            "application/vnd.google.colaboratory.intrinsic+json": {
              "type": "string"
            }
          },
          "metadata": {},
          "execution_count": 102
        }
      ]
    },
    {
      "cell_type": "code",
      "source": [
        "response = seq_quiz_chain.invoke(input={\"text\":text,\n",
        "                             \"number\":5,\n",
        "                             \"subject\":\"Data Science\",\n",
        "                             \"tone\":\"Simple\",\n",
        "                             \"response_json\":json.dumps(RESPONSE_JSON)})"
      ],
      "metadata": {
        "colab": {
          "base_uri": "https://localhost:8080/"
        },
        "id": "CayuUbZLBr5V",
        "outputId": "37b3a95e-e433-445a-a161-50a2ec7fad77"
      },
      "execution_count": 104,
      "outputs": [
        {
          "output_type": "stream",
          "name": "stdout",
          "text": [
            "\n",
            "\n",
            "\u001b[1m> Entering new SequentialChain chain...\u001b[0m\n",
            "\n",
            "\n",
            "\u001b[1m> Entering new LLMChain chain...\u001b[0m\n",
            "Prompt after formatting:\n",
            "\u001b[32;1m\u001b[1;3m\n",
            "Text:Machine learning (ML) is a field of study in artificial intelligence concerned with the development and study of statistical algorithms that can learn from data and generalize to unseen data, and thus perform tasks without explicit instructions. Quick progress in the field of deep learning, beginning in 2010s, allowed neural networks to surpass many previous approaches in performance. ML finds application in many fields, including natural language processing, computer vision, speech recognition, email filtering, agriculture, and medicine. The application of ML to business problems is known as predictive analytics. Statistics and mathematical optimization (mathematical programming) methods comprise the foundations of machine learning. Data mining is a related field of study, focusing on exploratory data analysis (EDA) via unsupervised learning. From a theoretical viewpoint, probably approximately correct (PAC) learning provides a framework for describing machine learning.\n",
            "You are an expert MCQ maker. Given the above text, it is your job to create a quiz of 5 multiple choice questions for Data Science students in Simple tone. \n",
            "Make sure the questions are not repeated and check all the questions to be conforming the text as well.\n",
            "Make sure to format your response like  RESPONSE_JSON and use it as a guide. Ensure to make 5 MCQs\n",
            "### RESPONSE_JSON\n",
            "{\"1\": {\"mcq\": \"multiple choice question\", \"options\": {\"a\": \"choice here\", \"b\": \"choice here\", \"c\": \"choice here\", \"d\": \"choice here\"}, \"correct\": \"correct answer\"}, \"2\": {\"mcq\": \"multiple choice question\", \"options\": {\"a\": \"choice here\", \"b\": \"choice here\", \"c\": \"choice here\", \"d\": \"choice here\"}, \"correct\": \"correct answer\"}, \"3\": {\"mcq\": \"multiple choice question\", \"options\": {\"a\": \"choice here\", \"b\": \"choice here\", \"c\": \"choice here\", \"d\": \"choice here\"}, \"correct\": \"correct answer\"}}\n",
            "\u001b[0m\n",
            "\n",
            "\u001b[1m> Finished chain.\u001b[0m\n",
            "\n",
            "\n",
            "\u001b[1m> Entering new LLMChain chain...\u001b[0m\n",
            "Prompt after formatting:\n",
            "\u001b[32;1m\u001b[1;3m\n",
            "You are an expert english grammarian and writer. Given a Multiple Choice Quiz for Data Science students.You need to evaluate the complexity of the question and give a complete analysis of the quiz. Only use at max 50 words for complexity analysis. \n",
            "if the quiz is not at per with the cognitive and analytical abilities of the students,update the quiz questions which needs to be changed and change the tone such that it perfectly fits the student abilities\n",
            "Quiz_MCQs:\n",
            "```json\n",
            "{\n",
            "  \"1\": {\n",
            "    \"mcq\": \"What is machine learning primarily concerned with?\",\n",
            "    \"options\": {\n",
            "      \"a\": \"Developing robots\",\n",
            "      \"b\": \"Studying statistical algorithms that can learn from data\",\n",
            "      \"c\": \"Creating software applications\",\n",
            "      \"d\": \"Designing computer hardware\"\n",
            "    },\n",
            "    \"correct\": \"b\"\n",
            "  },\n",
            "  \"2\": {\n",
            "    \"mcq\": \"Which field of study is related to machine learning and focuses on exploratory data analysis (EDA)?\",\n",
            "    \"options\": {\n",
            "      \"a\": \"Deep learning\",\n",
            "      \"b\": \"Data mining\",\n",
            "      \"c\": \"Natural language processing\",\n",
            "      \"d\": \"Computer vision\"\n",
            "    },\n",
            "    \"correct\": \"b\"\n",
            "  },\n",
            "  \"3\": {\n",
            "    \"mcq\": \"What is the application of machine learning to business problems known as?\",\n",
            "    \"options\": {\n",
            "      \"a\": \"Data mining\",\n",
            "      \"b\": \"Predictive analytics\",\n",
            "      \"c\": \"Artificial intelligence\",\n",
            "      \"d\": \"Neural networks\"\n",
            "    },\n",
            "    \"correct\": \"b\"\n",
            "  },\n",
            "  \"4\": {\n",
            "    \"mcq\": \"Which framework provides a theoretical viewpoint for describing machine learning?\",\n",
            "    \"options\": {\n",
            "      \"a\": \"PAC learning\",\n",
            "      \"b\": \"Deep learning\",\n",
            "      \"c\": \"Reinforcement learning\",\n",
            "      \"d\": \"Supervised learning\"\n",
            "    },\n",
            "    \"correct\": \"a\"\n",
            "  },\n",
            "  \"5\": {\n",
            "    \"mcq\": \"In which decade did deep learning start making quick progress, allowing neural networks to surpass many previous approaches?\",\n",
            "    \"options\": {\n",
            "      \"a\": \"1990s\",\n",
            "      \"b\": \"2000s\",\n",
            "      \"c\": \"2010s\",\n",
            "      \"d\": \"2020s\"\n",
            "    },\n",
            "    \"correct\": \"c\"\n",
            "  }\n",
            "}\n",
            "```\n",
            "\n",
            "Check from an expert English Writer of the above quiz:\n",
            "\u001b[0m\n",
            "\n",
            "\u001b[1m> Finished chain.\u001b[0m\n",
            "\n",
            "\u001b[1m> Finished chain.\u001b[0m\n"
          ]
        }
      ]
    },
    {
      "cell_type": "code",
      "source": [
        "response"
      ],
      "metadata": {
        "colab": {
          "base_uri": "https://localhost:8080/"
        },
        "id": "jxD23iqwUksL",
        "outputId": "4e62c2b8-eb7c-45cf-d879-d74f7c9ef553"
      },
      "execution_count": 122,
      "outputs": [
        {
          "output_type": "execute_result",
          "data": {
            "text/plain": [
              "{'text': 'Machine learning (ML) is a field of study in artificial intelligence concerned with the development and study of statistical algorithms that can learn from data and generalize to unseen data, and thus perform tasks without explicit instructions. Quick progress in the field of deep learning, beginning in 2010s, allowed neural networks to surpass many previous approaches in performance. ML finds application in many fields, including natural language processing, computer vision, speech recognition, email filtering, agriculture, and medicine. The application of ML to business problems is known as predictive analytics. Statistics and mathematical optimization (mathematical programming) methods comprise the foundations of machine learning. Data mining is a related field of study, focusing on exploratory data analysis (EDA) via unsupervised learning. From a theoretical viewpoint, probably approximately correct (PAC) learning provides a framework for describing machine learning.',\n",
              " 'number': 5,\n",
              " 'subject': 'Data Science',\n",
              " 'tone': 'Simple',\n",
              " 'response_json': '{\"1\": {\"mcq\": \"multiple choice question\", \"options\": {\"a\": \"choice here\", \"b\": \"choice here\", \"c\": \"choice here\", \"d\": \"choice here\"}, \"correct\": \"correct answer\"}, \"2\": {\"mcq\": \"multiple choice question\", \"options\": {\"a\": \"choice here\", \"b\": \"choice here\", \"c\": \"choice here\", \"d\": \"choice here\"}, \"correct\": \"correct answer\"}, \"3\": {\"mcq\": \"multiple choice question\", \"options\": {\"a\": \"choice here\", \"b\": \"choice here\", \"c\": \"choice here\", \"d\": \"choice here\"}, \"correct\": \"correct answer\"}}',\n",
              " 'quiz': '```json\\n{\\n  \"1\": {\\n    \"mcq\": \"What is machine learning primarily concerned with?\",\\n    \"options\": {\\n      \"a\": \"Developing robots\",\\n      \"b\": \"Studying statistical algorithms that can learn from data\",\\n      \"c\": \"Creating software applications\",\\n      \"d\": \"Designing computer hardware\"\\n    },\\n    \"correct\": \"b\"\\n  },\\n  \"2\": {\\n    \"mcq\": \"Which field of study is related to machine learning and focuses on exploratory data analysis (EDA)?\",\\n    \"options\": {\\n      \"a\": \"Deep learning\",\\n      \"b\": \"Data mining\",\\n      \"c\": \"Natural language processing\",\\n      \"d\": \"Computer vision\"\\n    },\\n    \"correct\": \"b\"\\n  },\\n  \"3\": {\\n    \"mcq\": \"What is the application of machine learning to business problems known as?\",\\n    \"options\": {\\n      \"a\": \"Data mining\",\\n      \"b\": \"Predictive analytics\",\\n      \"c\": \"Artificial intelligence\",\\n      \"d\": \"Neural networks\"\\n    },\\n    \"correct\": \"b\"\\n  },\\n  \"4\": {\\n    \"mcq\": \"Which framework provides a theoretical viewpoint for describing machine learning?\",\\n    \"options\": {\\n      \"a\": \"PAC learning\",\\n      \"b\": \"Deep learning\",\\n      \"c\": \"Reinforcement learning\",\\n      \"d\": \"Supervised learning\"\\n    },\\n    \"correct\": \"a\"\\n  },\\n  \"5\": {\\n    \"mcq\": \"In which decade did deep learning start making quick progress, allowing neural networks to surpass many previous approaches?\",\\n    \"options\": {\\n      \"a\": \"1990s\",\\n      \"b\": \"2000s\",\\n      \"c\": \"2010s\",\\n      \"d\": \"2020s\"\\n    },\\n    \"correct\": \"c\"\\n  }\\n}\\n```',\n",
              " 'review': '### Complexity Analysis\\nThe quiz questions are generally well-suited for Data Science students, covering fundamental concepts and historical context. However, some questions may be too specific or advanced for beginners. The tone is straightforward but could benefit from slight simplification for clarity.\\n\\n### Updated Quiz Questions\\n```json\\n{\\n  \"1\": {\\n    \"mcq\": \"What is the main focus of machine learning?\",\\n    \"options\": {\\n      \"a\": \"Building robots\",\\n      \"b\": \"Using algorithms to learn from data\",\\n      \"c\": \"Creating software programs\",\\n      \"d\": \"Designing computer hardware\"\\n    },\\n    \"correct\": \"b\"\\n  },\\n  \"2\": {\\n    \"mcq\": \"Which field is closely related to machine learning and involves exploring data?\",\\n    \"options\": {\\n      \"a\": \"Deep learning\",\\n      \"b\": \"Data mining\",\\n      \"c\": \"Natural language processing\",\\n      \"d\": \"Computer vision\"\\n    },\\n    \"correct\": \"b\"\\n  },\\n  \"3\": {\\n    \"mcq\": \"What is the term for applying machine learning to solve business problems?\",\\n    \"options\": {\\n      \"a\": \"Data mining\",\\n      \"b\": \"Predictive analytics\",\\n      \"c\": \"Artificial intelligence\",\\n      \"d\": \"Neural networks\"\\n    },\\n    \"correct\": \"b\"\\n  },\\n  \"4\": {\\n    \"mcq\": \"Which framework offers a theoretical perspective on machine learning?\",\\n    \"options\": {\\n      \"a\": \"PAC learning\",\\n      \"b\": \"Deep learning\",\\n      \"c\": \"Reinforcement learning\",\\n      \"d\": \"Supervised learning\"\\n    },\\n    \"correct\": \"a\"\\n  },\\n  \"5\": {\\n    \"mcq\": \"In which decade did deep learning start to make significant progress, making neural networks more effective?\",\\n    \"options\": {\\n      \"a\": \"1990s\",\\n      \"b\": \"2000s\",\\n      \"c\": \"2010s\",\\n      \"d\": \"2020s\"\\n    },\\n    \"correct\": \"c\"\\n  }\\n}\\n```\\n\\n### Analysis\\nThe original quiz questions were well-structured but could be slightly simplified for better comprehension by beginners. The updated questions maintain the core concepts while using simpler language, making them more accessible to students at various levels of understanding.'}"
            ]
          },
          "metadata": {},
          "execution_count": 122
        }
      ]
    },
    {
      "cell_type": "code",
      "source": [
        "quiz_string = response.get(\"quiz\")\n",
        "cleaned_quiz_string = quiz_string.replace('```json\\n', '').replace('```', '')\n",
        "cleaned_quiz_json = json.loads(cleaned_quiz_string)"
      ],
      "metadata": {
        "id": "vVb1_it3UuVy"
      },
      "execution_count": 133,
      "outputs": []
    },
    {
      "cell_type": "markdown",
      "source": [
        "##### **Dataset Creation**"
      ],
      "metadata": {
        "id": "_T_wkMJqSx_8"
      }
    },
    {
      "cell_type": "code",
      "source": [
        "quiz_table_data = []\n",
        "for key,value in cleaned_quiz_json.items():\n",
        "  mcq = value[\"mcq\"]\n",
        "  options = \" | \".join([f\"{option_key} : {option_value}\" for option_key,option_value in value[\"options\"].items()])\n",
        "  correct = value[\"correct\"]\n",
        "\n",
        "  quiz_table_data.append({\"MCQ\":mcq,\"Options\":options,\"Corerct\":correct})\n",
        "quiz_table_data"
      ],
      "metadata": {
        "colab": {
          "base_uri": "https://localhost:8080/"
        },
        "id": "yZQ-8t_ES4LC",
        "outputId": "ef9074ec-ef0c-4d00-b6cd-f3d5cee9ba2b"
      },
      "execution_count": 138,
      "outputs": [
        {
          "output_type": "execute_result",
          "data": {
            "text/plain": [
              "[{'MCQ': 'What is machine learning primarily concerned with?',\n",
              "  'Options': 'a : Developing robots | b : Studying statistical algorithms that can learn from data | c : Creating software applications | d : Designing computer hardware',\n",
              "  'Corerct': 'b'},\n",
              " {'MCQ': 'Which field of study is related to machine learning and focuses on exploratory data analysis (EDA)?',\n",
              "  'Options': 'a : Deep learning | b : Data mining | c : Natural language processing | d : Computer vision',\n",
              "  'Corerct': 'b'},\n",
              " {'MCQ': 'What is the application of machine learning to business problems known as?',\n",
              "  'Options': 'a : Data mining | b : Predictive analytics | c : Artificial intelligence | d : Neural networks',\n",
              "  'Corerct': 'b'},\n",
              " {'MCQ': 'Which framework provides a theoretical viewpoint for describing machine learning?',\n",
              "  'Options': 'a : PAC learning | b : Deep learning | c : Reinforcement learning | d : Supervised learning',\n",
              "  'Corerct': 'a'},\n",
              " {'MCQ': 'In which decade did deep learning start making quick progress, allowing neural networks to surpass many previous approaches?',\n",
              "  'Options': 'a : 1990s | b : 2000s | c : 2010s | d : 2020s',\n",
              "  'Corerct': 'c'}]"
            ]
          },
          "metadata": {},
          "execution_count": 138
        }
      ]
    },
    {
      "cell_type": "code",
      "source": [
        "quiz_df = pd.DataFrame(quiz_table_data)\n",
        "quiz_df.to_csv(\"/content/Machine_Learning_quizes.csv\")"
      ],
      "metadata": {
        "id": "Yh909O4oTgPi"
      },
      "execution_count": 141,
      "outputs": []
    },
    {
      "cell_type": "code",
      "source": [],
      "metadata": {
        "id": "fRtDLjWaX51a"
      },
      "execution_count": null,
      "outputs": []
    }
  ]
}